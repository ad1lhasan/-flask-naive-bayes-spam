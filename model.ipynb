{
 "cells": [
  {
   "cell_type": "code",
   "execution_count": 2,
   "metadata": {},
   "outputs": [],
   "source": [
    "import pandas as pd\n",
    "from sklearn.naive_bayes import MultinomialNB\n",
    "from sklearn.feature_extraction.text import CountVectorizer\n",
    "import pickle\n",
    "\n",
    "data = pd.read_csv(\"mail_data.csv\")\n",
    "data['Label'] = data['Category'].map({'spam': 1, 'ham': 0})\n",
    "data.dropna(inplace=True)\n",
    "\n",
    "vectorizer = CountVectorizer(lowercase=True, stop_words=\"english\")\n",
    "X = vectorizer.fit_transform(data['Message'])\n",
    "y = data['Label']\n",
    "\n",
    "model = MultinomialNB(alpha=0.5)\n",
    "model.fit(X, y)\n",
    "\n",
    "pickle.dump(model, open(\"model.pkl\", \"wb\"))\n",
    "pickle.dump(vectorizer, open(\"vectorizer.pkl\", \"wb\"))"
   ]
  }
 ],
 "metadata": {
  "kernelspec": {
   "display_name": "base",
   "language": "python",
   "name": "python3"
  },
  "language_info": {
   "codemirror_mode": {
    "name": "ipython",
    "version": 3
   },
   "file_extension": ".py",
   "mimetype": "text/x-python",
   "name": "python",
   "nbconvert_exporter": "python",
   "pygments_lexer": "ipython3",
   "version": "3.12.4"
  }
 },
 "nbformat": 4,
 "nbformat_minor": 2
}
